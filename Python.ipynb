import pandas as pd   """Подключаем pandas

import io   """одключаем для вставки локального файла

from google.colab import files    """Поиск файла 
uploaded = files.upload()

df = pd.read_csv(io.BytesIO(uploaded['movie_metadata.csv']))    """Закидываем в df файл csv

df    """Print Dataframe (our csv-file) 

df.info()   """print info about file

df.shape    """size of frame

df.columns   """name of columns

df.head(3)    """3 first rows 

df.tail(3)    """3 последних строки

df.dtypes   """types of columns

df['Name']    """Покажет колонку Name (одномерные данные)

df[['Name','Age']].head(3)    """Выведет 3 первые колонки Name и Age

df[['Name','Age']].tail   """Выведет 3 последние колонки Name и Age

df.iloc[[5,10,15],[0,1]]    """Вызывает 1 и 2 колонки 5, 10, и 15 строки

df.iloc[5:11, 1:3] """Вызывает 2 и 3 колонку строк с 5 по 11

df[df['Age'] > 18]    """Выводит фрейм со строками колонки Age, где значение строк > 18

df[df['duration'].isnull()]   """Выводит фрейм с строками колонки duration, где значение строк не задано

df['duration'].isnull()   """Выводит буллиевую маску, то есть все строчки данной колонки, со значениями TRUE/FALSE, для соответсвующих значений

df[df['duration'].isin([5,10,15])]    """Выводит фрейм, где значение строки колонки duration = 5, 10 или 15

df[(df['duration'] == 5) | (df['duration'] == 10) | (df['duration'] == 15)]

df[df['duration'].notna()]    """Значения колонки, которые не нулевые

df[df['duration'].notna()].shape    """Получит размер фрейма в котором нет нулевых значений в колонке duration, если нужно узнать в скольких строках колонки нет нулей, то берем первое число из скобок

df['duration'].isna().sum()   """Сразу выдаст количество строк данной колонки, в которых стоит нулевое значение (пропуск)

df.describe()   """Выводит многие показатели для статистики, в том числе среднее и тд, см в интернете
